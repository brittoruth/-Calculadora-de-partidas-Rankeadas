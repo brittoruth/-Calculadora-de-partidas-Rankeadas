{
  "nbformat": 4,
  "nbformat_minor": 0,
  "metadata": {
    "colab": {
      "provenance": [],
      "authorship_tag": "ABX9TyPyLyA00kot0EXAl5BBu6EF",
      "include_colab_link": true
    },
    "kernelspec": {
      "name": "python3",
      "display_name": "Python 3"
    },
    "language_info": {
      "name": "python"
    }
  },
  "cells": [
    {
      "cell_type": "markdown",
      "metadata": {
        "id": "view-in-github",
        "colab_type": "text"
      },
      "source": [
        "<a href=\"https://colab.research.google.com/github/brittoruth/-Calculadora-de-partidas-Rankeadas/blob/main/Desenvolvimento_Extra_1_2_97547.ipynb\" target=\"_parent\"><img src=\"https://colab.research.google.com/assets/colab-badge.svg\" alt=\"Open In Colab\"/></a>"
      ]
    },
    {
      "cell_type": "code",
      "execution_count": null,
      "metadata": {
        "colab": {
          "base_uri": "https://localhost:8080/"
        },
        "id": "4KmQo3jfm_ae",
        "outputId": "b310a8c6-f4dd-43f4-e26a-9c8ba842e292"
      },
      "outputs": [
        {
          "output_type": "stream",
          "name": "stdout",
          "text": [
            "15\n",
            "Elis Regina\n",
            "Moacir Santos\n",
            "Gal Costa\n"
          ]
        }
      ],
      "source": [
        "lista_musicos = [ 'Djavan', 'Roberto Carlos', 'Elis Regina', 'Tom Jobim', 'Milton Nascimento', 'Chico Buarque', 'Nara Leão', 'Pitty', 'Simonal', 'Moacir Santos', 'Caetano Veloso', 'Elza Soares', 'Paulinho da Viola', 'Yamandú Costa', 'Gal Costa']\n",
        "quantidade_de_elemento = len (lista_musicos)\n",
        "print(quantidade_de_elemento)\n",
        "print(lista_musicos[2])\n",
        "print(lista_musicos[9])\n",
        "print(lista_musicos[14])"
      ]
    },
    {
      "cell_type": "code",
      "source": [],
      "metadata": {
        "id": "bmLa29zL1-jO"
      },
      "execution_count": null,
      "outputs": []
    }
  ]
}